{
 "cells": [
  {
   "cell_type": "markdown",
   "metadata": {
    "toc": true
   },
   "source": [
    "<h1>Table of Contents<span class=\"tocSkip\"></span></h1>\n",
    "<div class=\"toc\"><ul class=\"toc-item\"></ul></div>"
   ]
  },
  {
   "cell_type": "markdown",
   "metadata": {},
   "source": [
    "# Data Preprocessing"
   ]
  },
  {
   "cell_type": "code",
   "execution_count": 46,
   "metadata": {},
   "outputs": [],
   "source": [
    "import pandas as pd\n",
    "import numpy as np\n",
    "import matplotlib.pyplot as plt\n",
    "%matplotlib inline\n",
    "import seaborn as sns\n",
    "\n",
    "#stats stuff\n",
    "from sklearn.linear_model import LinearRegression\n",
    "from sklearn.preprocessing import MinMaxScaler\n",
    "from sklearn.linear_model import Lasso, Ridge, LinearRegression\n",
    "from sklearn.model_selection import train_test_split"
   ]
  },
  {
   "cell_type": "markdown",
   "metadata": {},
   "source": [
    "## Load Data"
   ]
  },
  {
   "cell_type": "code",
   "execution_count": 69,
   "metadata": {},
   "outputs": [
    {
     "data": {
      "text/html": [
       "<div>\n",
       "<style scoped>\n",
       "    .dataframe tbody tr th:only-of-type {\n",
       "        vertical-align: middle;\n",
       "    }\n",
       "\n",
       "    .dataframe tbody tr th {\n",
       "        vertical-align: top;\n",
       "    }\n",
       "\n",
       "    .dataframe thead th {\n",
       "        text-align: right;\n",
       "    }\n",
       "</style>\n",
       "<table border=\"1\" class=\"dataframe\">\n",
       "  <thead>\n",
       "    <tr style=\"text-align: right;\">\n",
       "      <th></th>\n",
       "      <th>fixed acidity</th>\n",
       "      <th>volatile acidity</th>\n",
       "      <th>citric acid</th>\n",
       "      <th>residual sugar</th>\n",
       "      <th>chlorides</th>\n",
       "      <th>free sulfur dioxide</th>\n",
       "      <th>total sulfur dioxide</th>\n",
       "      <th>density</th>\n",
       "      <th>pH</th>\n",
       "      <th>sulphates</th>\n",
       "      <th>alcohol</th>\n",
       "      <th>quality</th>\n",
       "    </tr>\n",
       "  </thead>\n",
       "  <tbody>\n",
       "    <tr>\n",
       "      <td>0</td>\n",
       "      <td>7.4</td>\n",
       "      <td>0.70</td>\n",
       "      <td>0.00</td>\n",
       "      <td>1.9</td>\n",
       "      <td>0.076</td>\n",
       "      <td>11.0</td>\n",
       "      <td>34.0</td>\n",
       "      <td>0.9978</td>\n",
       "      <td>3.51</td>\n",
       "      <td>0.56</td>\n",
       "      <td>9.4</td>\n",
       "      <td>5</td>\n",
       "    </tr>\n",
       "    <tr>\n",
       "      <td>1</td>\n",
       "      <td>7.8</td>\n",
       "      <td>0.88</td>\n",
       "      <td>0.00</td>\n",
       "      <td>2.6</td>\n",
       "      <td>0.098</td>\n",
       "      <td>25.0</td>\n",
       "      <td>67.0</td>\n",
       "      <td>0.9968</td>\n",
       "      <td>3.20</td>\n",
       "      <td>0.68</td>\n",
       "      <td>9.8</td>\n",
       "      <td>5</td>\n",
       "    </tr>\n",
       "    <tr>\n",
       "      <td>2</td>\n",
       "      <td>7.8</td>\n",
       "      <td>0.76</td>\n",
       "      <td>0.04</td>\n",
       "      <td>2.3</td>\n",
       "      <td>0.092</td>\n",
       "      <td>15.0</td>\n",
       "      <td>54.0</td>\n",
       "      <td>0.9970</td>\n",
       "      <td>3.26</td>\n",
       "      <td>0.65</td>\n",
       "      <td>9.8</td>\n",
       "      <td>5</td>\n",
       "    </tr>\n",
       "    <tr>\n",
       "      <td>3</td>\n",
       "      <td>11.2</td>\n",
       "      <td>0.28</td>\n",
       "      <td>0.56</td>\n",
       "      <td>1.9</td>\n",
       "      <td>0.075</td>\n",
       "      <td>17.0</td>\n",
       "      <td>60.0</td>\n",
       "      <td>0.9980</td>\n",
       "      <td>3.16</td>\n",
       "      <td>0.58</td>\n",
       "      <td>9.8</td>\n",
       "      <td>6</td>\n",
       "    </tr>\n",
       "    <tr>\n",
       "      <td>4</td>\n",
       "      <td>7.4</td>\n",
       "      <td>0.70</td>\n",
       "      <td>0.00</td>\n",
       "      <td>1.9</td>\n",
       "      <td>0.076</td>\n",
       "      <td>11.0</td>\n",
       "      <td>34.0</td>\n",
       "      <td>0.9978</td>\n",
       "      <td>3.51</td>\n",
       "      <td>0.56</td>\n",
       "      <td>9.4</td>\n",
       "      <td>5</td>\n",
       "    </tr>\n",
       "  </tbody>\n",
       "</table>\n",
       "</div>"
      ],
      "text/plain": [
       "   fixed acidity  volatile acidity  citric acid  residual sugar  chlorides  \\\n",
       "0            7.4              0.70         0.00             1.9      0.076   \n",
       "1            7.8              0.88         0.00             2.6      0.098   \n",
       "2            7.8              0.76         0.04             2.3      0.092   \n",
       "3           11.2              0.28         0.56             1.9      0.075   \n",
       "4            7.4              0.70         0.00             1.9      0.076   \n",
       "\n",
       "   free sulfur dioxide  total sulfur dioxide  density    pH  sulphates  \\\n",
       "0                 11.0                  34.0   0.9978  3.51       0.56   \n",
       "1                 25.0                  67.0   0.9968  3.20       0.68   \n",
       "2                 15.0                  54.0   0.9970  3.26       0.65   \n",
       "3                 17.0                  60.0   0.9980  3.16       0.58   \n",
       "4                 11.0                  34.0   0.9978  3.51       0.56   \n",
       "\n",
       "   alcohol  quality  \n",
       "0      9.4        5  \n",
       "1      9.8        5  \n",
       "2      9.8        5  \n",
       "3      9.8        6  \n",
       "4      9.4        5  "
      ]
     },
     "execution_count": 69,
     "metadata": {},
     "output_type": "execute_result"
    }
   ],
   "source": [
    "df = pd.read_csv('winequality-red.csv')\n",
    "df.head()"
   ]
  },
  {
   "cell_type": "code",
   "execution_count": 126,
   "metadata": {},
   "outputs": [],
   "source": [
    "df.columns = df.columns.map(lambda x: x.replace(' ','_'))"
   ]
  },
  {
   "cell_type": "code",
   "execution_count": 127,
   "metadata": {},
   "outputs": [
    {
     "data": {
      "text/html": [
       "<div>\n",
       "<style scoped>\n",
       "    .dataframe tbody tr th:only-of-type {\n",
       "        vertical-align: middle;\n",
       "    }\n",
       "\n",
       "    .dataframe tbody tr th {\n",
       "        vertical-align: top;\n",
       "    }\n",
       "\n",
       "    .dataframe thead th {\n",
       "        text-align: right;\n",
       "    }\n",
       "</style>\n",
       "<table border=\"1\" class=\"dataframe\">\n",
       "  <thead>\n",
       "    <tr style=\"text-align: right;\">\n",
       "      <th></th>\n",
       "      <th>fixed_acidity</th>\n",
       "      <th>volatile_acidity</th>\n",
       "      <th>citric_acid</th>\n",
       "      <th>residual_sugar</th>\n",
       "      <th>chlorides</th>\n",
       "      <th>free_sulfur_dioxide</th>\n",
       "      <th>total_sulfur_dioxide</th>\n",
       "      <th>density</th>\n",
       "      <th>pH</th>\n",
       "      <th>sulphates</th>\n",
       "      <th>alcohol</th>\n",
       "      <th>quality</th>\n",
       "    </tr>\n",
       "  </thead>\n",
       "  <tbody>\n",
       "    <tr>\n",
       "      <td>0</td>\n",
       "      <td>7.4</td>\n",
       "      <td>0.70</td>\n",
       "      <td>0.00</td>\n",
       "      <td>1.9</td>\n",
       "      <td>0.076</td>\n",
       "      <td>11.0</td>\n",
       "      <td>34.0</td>\n",
       "      <td>0.9978</td>\n",
       "      <td>3.51</td>\n",
       "      <td>0.56</td>\n",
       "      <td>9.4</td>\n",
       "      <td>5</td>\n",
       "    </tr>\n",
       "    <tr>\n",
       "      <td>1</td>\n",
       "      <td>7.8</td>\n",
       "      <td>0.88</td>\n",
       "      <td>0.00</td>\n",
       "      <td>2.6</td>\n",
       "      <td>0.098</td>\n",
       "      <td>25.0</td>\n",
       "      <td>67.0</td>\n",
       "      <td>0.9968</td>\n",
       "      <td>3.20</td>\n",
       "      <td>0.68</td>\n",
       "      <td>9.8</td>\n",
       "      <td>5</td>\n",
       "    </tr>\n",
       "    <tr>\n",
       "      <td>2</td>\n",
       "      <td>7.8</td>\n",
       "      <td>0.76</td>\n",
       "      <td>0.04</td>\n",
       "      <td>2.3</td>\n",
       "      <td>0.092</td>\n",
       "      <td>15.0</td>\n",
       "      <td>54.0</td>\n",
       "      <td>0.9970</td>\n",
       "      <td>3.26</td>\n",
       "      <td>0.65</td>\n",
       "      <td>9.8</td>\n",
       "      <td>5</td>\n",
       "    </tr>\n",
       "    <tr>\n",
       "      <td>3</td>\n",
       "      <td>11.2</td>\n",
       "      <td>0.28</td>\n",
       "      <td>0.56</td>\n",
       "      <td>1.9</td>\n",
       "      <td>0.075</td>\n",
       "      <td>17.0</td>\n",
       "      <td>60.0</td>\n",
       "      <td>0.9980</td>\n",
       "      <td>3.16</td>\n",
       "      <td>0.58</td>\n",
       "      <td>9.8</td>\n",
       "      <td>6</td>\n",
       "    </tr>\n",
       "    <tr>\n",
       "      <td>4</td>\n",
       "      <td>7.4</td>\n",
       "      <td>0.70</td>\n",
       "      <td>0.00</td>\n",
       "      <td>1.9</td>\n",
       "      <td>0.076</td>\n",
       "      <td>11.0</td>\n",
       "      <td>34.0</td>\n",
       "      <td>0.9978</td>\n",
       "      <td>3.51</td>\n",
       "      <td>0.56</td>\n",
       "      <td>9.4</td>\n",
       "      <td>5</td>\n",
       "    </tr>\n",
       "  </tbody>\n",
       "</table>\n",
       "</div>"
      ],
      "text/plain": [
       "   fixed_acidity  volatile_acidity  citric_acid  residual_sugar  chlorides  \\\n",
       "0            7.4              0.70         0.00             1.9      0.076   \n",
       "1            7.8              0.88         0.00             2.6      0.098   \n",
       "2            7.8              0.76         0.04             2.3      0.092   \n",
       "3           11.2              0.28         0.56             1.9      0.075   \n",
       "4            7.4              0.70         0.00             1.9      0.076   \n",
       "\n",
       "   free_sulfur_dioxide  total_sulfur_dioxide  density    pH  sulphates  \\\n",
       "0                 11.0                  34.0   0.9978  3.51       0.56   \n",
       "1                 25.0                  67.0   0.9968  3.20       0.68   \n",
       "2                 15.0                  54.0   0.9970  3.26       0.65   \n",
       "3                 17.0                  60.0   0.9980  3.16       0.58   \n",
       "4                 11.0                  34.0   0.9978  3.51       0.56   \n",
       "\n",
       "   alcohol  quality  \n",
       "0      9.4        5  \n",
       "1      9.8        5  \n",
       "2      9.8        5  \n",
       "3      9.8        6  \n",
       "4      9.4        5  "
      ]
     },
     "execution_count": 127,
     "metadata": {},
     "output_type": "execute_result"
    }
   ],
   "source": [
    "df.head()"
   ]
  },
  {
   "cell_type": "markdown",
   "metadata": {},
   "source": [
    "## Check for Multicollinearity"
   ]
  },
  {
   "cell_type": "code",
   "execution_count": 10,
   "metadata": {},
   "outputs": [
    {
     "data": {
      "image/png": "[encoded data removed]",
      "text/plain": [
       "<Figure size 432x288 with 2 Axes>"
      ]
     },
     "metadata": {
      "needs_background": "light"
     },
     "output_type": "display_data"
    }
   ],
   "source": [
    "sns.heatmap(df.corr(),center=0);"
   ]
  },
  {
   "cell_type": "code",
   "execution_count": 220,
   "metadata": {
    "scrolled": true
   },
   "outputs": [
    {
     "data": {
      "text/plain": [
       "fixed_acidity           1\n",
       "volatile_acidity        1\n",
       "citric_acid             1\n",
       "residual_sugar          1\n",
       "chlorides               1\n",
       "free_sulfur_dioxide     1\n",
       "total_sulfur_dioxide    1\n",
       "density                 1\n",
       "pH                      1\n",
       "sulphates               1\n",
       "alcohol                 1\n",
       "quality                 1\n",
       "dtype: int64"
      ]
     },
     "execution_count": 220,
     "metadata": {},
     "output_type": "execute_result"
    }
   ],
   "source": [
    "(abs(df.corr()) > 0.75).sum()"
   ]
  },
  {
   "cell_type": "markdown",
   "metadata": {},
   "source": [
    "These two above cells confirm no multicollinearity to worry about."
   ]
  },
  {
   "cell_type": "markdown",
   "metadata": {},
   "source": [
    "## Visualize for Non-Transformed Data"
   ]
  },
  {
   "cell_type": "code",
   "execution_count": 13,
   "metadata": {
    "scrolled": false
   },
   "outputs": [
    {
     "data": {
      "image/png": "[encoded data removed]",
      "text/plain": [
       "<Figure size 720x720 with 12 Axes>"
      ]
     },
     "metadata": {
      "needs_background": "light"
     },
     "output_type": "display_data"
    }
   ],
   "source": [
    "df.hist(figsize  = [10, 10]); "
   ]
  },
  {
   "cell_type": "markdown",
   "metadata": {},
   "source": [
    "The above visuals show that density and pH are already normally-distributed. Others will need to be log transformed. Several columns have values between 0 and 1, and thus will need to be transformed according to log(x+1)."
   ]
  },
  {
   "cell_type": "code",
   "execution_count": 118,
   "metadata": {
    "scrolled": false
   },
   "outputs": [
    {
     "data": {
      "text/plain": [
       "<matplotlib.axes._subplots.AxesSubplot at 0x1a1cb441d0>"
      ]
     },
     "execution_count": 118,
     "metadata": {},
     "output_type": "execute_result"
    },
    {
     "data": {
      "image/png": "[encoded data removed]",
      "text/plain": [
       "<Figure size 432x288 with 1 Axes>"
      ]
     },
     "metadata": {
      "needs_background": "light"
     },
     "output_type": "display_data"
    }
   ],
   "source": [
    "sns.boxplot(y=df.quality)"
   ]
  },
  {
   "cell_type": "markdown",
   "metadata": {},
   "source": [
    "The quality column has mostly values at 5 or 6, which probably won't tell us much about any of the other variables. We therefore will omit this from our exploration."
   ]
  },
  {
   "cell_type": "markdown",
   "metadata": {},
   "source": [
    "## Log Transform"
   ]
  },
  {
   "cell_type": "code",
   "execution_count": 128,
   "metadata": {
    "code_folding": [],
    "scrolled": false
   },
   "outputs": [
    {
     "data": {
      "image/png": "[encoded data removed]",
      "text/plain": [
       "<Figure size 720x720 with 12 Axes>"
      ]
     },
     "metadata": {
      "needs_background": "light"
     },
     "output_type": "display_data"
    }
   ],
   "source": [
    "# Create log-transformed DF\n",
    "df_log = pd.DataFrame([])\n",
    "\n",
    "# Keep track of which categories to apply which transformations to (The slicing gets rid of the quality column)\n",
    "cats = df.columns[:-1]\n",
    "non_log_cats = ['pH','density']\n",
    "offset_log_cats = ['citric_acid','free_sulphur_dioxide','chlorides','volatile_acidity', 'sulphates']\n",
    "\n",
    "# Iterate\n",
    "for cat in cats:\n",
    "    \n",
    "    # Don't transform already normally-distributed data\n",
    "    if cat in non_log_cats:\n",
    "        df_log[cat] = df[cat]\n",
    "        \n",
    "    # Add 1 and THEN log transform columns containing values between [0,1)\n",
    "    if cat in offset_log_cats:\n",
    "        df_log[cat] = np.log(df[cat] + 1)\n",
    "    \n",
    "    # Log transform everything else\n",
    "    else:\n",
    "        df_log[cat] = np.log(df[cat])\n",
    "\n",
    "\n",
    "df_log.hist(figsize  = [10, 10]);"
   ]
  },
  {
   "cell_type": "markdown",
   "metadata": {},
   "source": [
    "## Feature Scaling"
   ]
  },
  {
   "cell_type": "markdown",
   "metadata": {},
   "source": [
    "We are going to min-max scale to get our data between 0 and 1 for multiple linear regression."
   ]
  },
  {
   "cell_type": "code",
   "execution_count": 129,
   "metadata": {},
   "outputs": [],
   "source": [
    "y = df[[\"alcohol\"]]\n",
    "X = df_log #.drop(labels='alcohol',axis=1)\n",
    "\n",
    "scale = MinMaxScaler()\n",
    "transformed = scale.fit_transform(X)\n",
    "X = pd.DataFrame(transformed, columns = X.columns)"
   ]
  },
  {
   "cell_type": "code",
   "execution_count": 130,
   "metadata": {},
   "outputs": [
    {
     "data": {
      "image/png": "[encoded data removed]",
      "text/plain": [
       "<Figure size 720x720 with 12 Axes>"
      ]
     },
     "metadata": {
      "needs_background": "light"
     },
     "output_type": "display_data"
    }
   ],
   "source": [
    "X.hist(figsize  = [10, 10]);"
   ]
  },
  {
   "cell_type": "markdown",
   "metadata": {},
   "source": [
    "# Statistical Modeling"
   ]
  },
  {
   "cell_type": "code",
   "execution_count": 131,
   "metadata": {},
   "outputs": [],
   "source": [
    "import statsmodels.api as sm\n",
    "from statsmodels.formula.api import ols"
   ]
  },
  {
   "cell_type": "code",
   "execution_count": 132,
   "metadata": {},
   "outputs": [
    {
     "data": {
      "text/html": [
       "<div>\n",
       "<style scoped>\n",
       "    .dataframe tbody tr th:only-of-type {\n",
       "        vertical-align: middle;\n",
       "    }\n",
       "\n",
       "    .dataframe tbody tr th {\n",
       "        vertical-align: top;\n",
       "    }\n",
       "\n",
       "    .dataframe thead th {\n",
       "        text-align: right;\n",
       "    }\n",
       "</style>\n",
       "<table border=\"1\" class=\"dataframe\">\n",
       "  <thead>\n",
       "    <tr style=\"text-align: right;\">\n",
       "      <th></th>\n",
       "      <th>fixed_acidity</th>\n",
       "      <th>volatile_acidity</th>\n",
       "      <th>citric_acid</th>\n",
       "      <th>residual_sugar</th>\n",
       "      <th>chlorides</th>\n",
       "      <th>free_sulfur_dioxide</th>\n",
       "      <th>total_sulfur_dioxide</th>\n",
       "      <th>density</th>\n",
       "      <th>pH</th>\n",
       "      <th>sulphates</th>\n",
       "      <th>alcohol</th>\n",
       "    </tr>\n",
       "  </thead>\n",
       "  <tbody>\n",
       "    <tr>\n",
       "      <td>0</td>\n",
       "      <td>0.383325</td>\n",
       "      <td>0.500083</td>\n",
       "      <td>0.000000</td>\n",
       "      <td>0.262530</td>\n",
       "      <td>0.131896</td>\n",
       "      <td>0.560693</td>\n",
       "      <td>0.447677</td>\n",
       "      <td>0.569223</td>\n",
       "      <td>0.650306</td>\n",
       "      <td>0.196091</td>\n",
       "      <td>0.196252</td>\n",
       "    </tr>\n",
       "    <tr>\n",
       "      <td>1</td>\n",
       "      <td>0.425771</td>\n",
       "      <td>0.620692</td>\n",
       "      <td>0.000000</td>\n",
       "      <td>0.372733</td>\n",
       "      <td>0.175429</td>\n",
       "      <td>0.752660</td>\n",
       "      <td>0.622746</td>\n",
       "      <td>0.495834</td>\n",
       "      <td>0.407509</td>\n",
       "      <td>0.287196</td>\n",
       "      <td>0.268963</td>\n",
       "    </tr>\n",
       "    <tr>\n",
       "      <td>2</td>\n",
       "      <td>0.425771</td>\n",
       "      <td>0.541649</td>\n",
       "      <td>0.056584</td>\n",
       "      <td>0.329657</td>\n",
       "      <td>0.163644</td>\n",
       "      <td>0.633215</td>\n",
       "      <td>0.567074</td>\n",
       "      <td>0.510518</td>\n",
       "      <td>0.456287</td>\n",
       "      <td>0.265045</td>\n",
       "      <td>0.268963</td>\n",
       "    </tr>\n",
       "    <tr>\n",
       "      <td>3</td>\n",
       "      <td>0.717475</td>\n",
       "      <td>0.160021</td>\n",
       "      <td>0.641546</td>\n",
       "      <td>0.262530</td>\n",
       "      <td>0.129896</td>\n",
       "      <td>0.662482</td>\n",
       "      <td>0.594267</td>\n",
       "      <td>0.583892</td>\n",
       "      <td>0.374479</td>\n",
       "      <td>0.211752</td>\n",
       "      <td>0.268963</td>\n",
       "    </tr>\n",
       "    <tr>\n",
       "      <td>4</td>\n",
       "      <td>0.383325</td>\n",
       "      <td>0.500083</td>\n",
       "      <td>0.000000</td>\n",
       "      <td>0.262530</td>\n",
       "      <td>0.131896</td>\n",
       "      <td>0.560693</td>\n",
       "      <td>0.447677</td>\n",
       "      <td>0.569223</td>\n",
       "      <td>0.650306</td>\n",
       "      <td>0.196091</td>\n",
       "      <td>0.196252</td>\n",
       "    </tr>\n",
       "  </tbody>\n",
       "</table>\n",
       "</div>"
      ],
      "text/plain": [
       "   fixed_acidity  volatile_acidity  citric_acid  residual_sugar  chlorides  \\\n",
       "0       0.383325          0.500083     0.000000        0.262530   0.131896   \n",
       "1       0.425771          0.620692     0.000000        0.372733   0.175429   \n",
       "2       0.425771          0.541649     0.056584        0.329657   0.163644   \n",
       "3       0.717475          0.160021     0.641546        0.262530   0.129896   \n",
       "4       0.383325          0.500083     0.000000        0.262530   0.131896   \n",
       "\n",
       "   free_sulfur_dioxide  total_sulfur_dioxide   density        pH  sulphates  \\\n",
       "0             0.560693              0.447677  0.569223  0.650306   0.196091   \n",
       "1             0.752660              0.622746  0.495834  0.407509   0.287196   \n",
       "2             0.633215              0.567074  0.510518  0.456287   0.265045   \n",
       "3             0.662482              0.594267  0.583892  0.374479   0.211752   \n",
       "4             0.560693              0.447677  0.569223  0.650306   0.196091   \n",
       "\n",
       "    alcohol  \n",
       "0  0.196252  \n",
       "1  0.268963  \n",
       "2  0.268963  \n",
       "3  0.268963  \n",
       "4  0.196252  "
      ]
     },
     "execution_count": 132,
     "metadata": {},
     "output_type": "execute_result"
    }
   ],
   "source": [
    "data_ols = X\n",
    "data_ols.head()"
   ]
  },
  {
   "cell_type": "code",
   "execution_count": 133,
   "metadata": {
    "scrolled": false
   },
   "outputs": [
    {
     "data": {
      "text/html": [
       "<table class=\"simpletable\">\n",
       "<caption>OLS Regression Results</caption>\n",
       "<tr>\n",
       "  <th>Dep. Variable:</th>         <td>alcohol</td>     <th>  R-squared:         </th> <td>   0.685</td>\n",
       "</tr>\n",
       "<tr>\n",
       "  <th>Model:</th>                   <td>OLS</td>       <th>  Adj. R-squared:    </th> <td>   0.683</td>\n",
       "</tr>\n",
       "<tr>\n",
       "  <th>Method:</th>             <td>Least Squares</td>  <th>  F-statistic:       </th> <td>   345.5</td>\n",
       "</tr>\n",
       "<tr>\n",
       "  <th>Date:</th>             <td>Mon, 25 Nov 2019</td> <th>  Prob (F-statistic):</th>  <td>  0.00</td> \n",
       "</tr>\n",
       "<tr>\n",
       "  <th>Time:</th>                 <td>16:30:28</td>     <th>  Log-Likelihood:    </th> <td>  1464.8</td>\n",
       "</tr>\n",
       "<tr>\n",
       "  <th>No. Observations:</th>      <td>  1599</td>      <th>  AIC:               </th> <td>  -2908.</td>\n",
       "</tr>\n",
       "<tr>\n",
       "  <th>Df Residuals:</th>          <td>  1588</td>      <th>  BIC:               </th> <td>  -2849.</td>\n",
       "</tr>\n",
       "<tr>\n",
       "  <th>Df Model:</th>              <td>    10</td>      <th>                     </th>     <td> </td>   \n",
       "</tr>\n",
       "<tr>\n",
       "  <th>Covariance Type:</th>      <td>nonrobust</td>    <th>                     </th>     <td> </td>   \n",
       "</tr>\n",
       "</table>\n",
       "<table class=\"simpletable\">\n",
       "<tr>\n",
       "            <td></td>              <th>coef</th>     <th>std err</th>      <th>t</th>      <th>P>|t|</th>  <th>[0.025</th>    <th>0.975]</th>  \n",
       "</tr>\n",
       "<tr>\n",
       "  <th>Intercept</th>            <td>   -0.0337</td> <td>    0.029</td> <td>   -1.165</td> <td> 0.244</td> <td>   -0.091</td> <td>    0.023</td>\n",
       "</tr>\n",
       "<tr>\n",
       "  <th>fixed_acidity</th>        <td>    0.9113</td> <td>    0.036</td> <td>   25.144</td> <td> 0.000</td> <td>    0.840</td> <td>    0.982</td>\n",
       "</tr>\n",
       "<tr>\n",
       "  <th>volatile_acidity</th>     <td>    0.0776</td> <td>    0.024</td> <td>    3.231</td> <td> 0.001</td> <td>    0.030</td> <td>    0.125</td>\n",
       "</tr>\n",
       "<tr>\n",
       "  <th>citric_acid</th>          <td>    0.1104</td> <td>    0.019</td> <td>    5.760</td> <td> 0.000</td> <td>    0.073</td> <td>    0.148</td>\n",
       "</tr>\n",
       "<tr>\n",
       "  <th>residual_sugar</th>       <td>    0.6064</td> <td>    0.022</td> <td>   27.392</td> <td> 0.000</td> <td>    0.563</td> <td>    0.650</td>\n",
       "</tr>\n",
       "<tr>\n",
       "  <th>chlorides</th>            <td>   -0.1440</td> <td>    0.034</td> <td>   -4.176</td> <td> 0.000</td> <td>   -0.212</td> <td>   -0.076</td>\n",
       "</tr>\n",
       "<tr>\n",
       "  <th>free_sulfur_dioxide</th>  <td>    0.0085</td> <td>    0.026</td> <td>    0.329</td> <td> 0.742</td> <td>   -0.042</td> <td>    0.059</td>\n",
       "</tr>\n",
       "<tr>\n",
       "  <th>total_sulfur_dioxide</th> <td>   -0.0988</td> <td>    0.024</td> <td>   -4.159</td> <td> 0.000</td> <td>   -0.145</td> <td>   -0.052</td>\n",
       "</tr>\n",
       "<tr>\n",
       "  <th>density</th>              <td>   -1.4018</td> <td>    0.031</td> <td>  -45.484</td> <td> 0.000</td> <td>   -1.462</td> <td>   -1.341</td>\n",
       "</tr>\n",
       "<tr>\n",
       "  <th>pH</th>                   <td>    0.7608</td> <td>    0.032</td> <td>   23.752</td> <td> 0.000</td> <td>    0.698</td> <td>    0.824</td>\n",
       "</tr>\n",
       "<tr>\n",
       "  <th>sulphates</th>            <td>    0.3367</td> <td>    0.024</td> <td>   14.006</td> <td> 0.000</td> <td>    0.290</td> <td>    0.384</td>\n",
       "</tr>\n",
       "</table>\n",
       "<table class=\"simpletable\">\n",
       "<tr>\n",
       "  <th>Omnibus:</th>       <td>141.267</td> <th>  Durbin-Watson:     </th> <td>   1.549</td>\n",
       "</tr>\n",
       "<tr>\n",
       "  <th>Prob(Omnibus):</th> <td> 0.000</td>  <th>  Jarque-Bera (JB):  </th> <td> 243.108</td>\n",
       "</tr>\n",
       "<tr>\n",
       "  <th>Skew:</th>          <td> 0.620</td>  <th>  Prob(JB):          </th> <td>1.62e-53</td>\n",
       "</tr>\n",
       "<tr>\n",
       "  <th>Kurtosis:</th>      <td> 4.454</td>  <th>  Cond. No.          </th> <td>    38.6</td>\n",
       "</tr>\n",
       "</table><br/><br/>Warnings:<br/>[1] Standard Errors assume that the covariance matrix of the errors is correctly specified."
      ],
      "text/plain": [
       "<class 'statsmodels.iolib.summary.Summary'>\n",
       "\"\"\"\n",
       "                            OLS Regression Results                            \n",
       "==============================================================================\n",
       "Dep. Variable:                alcohol   R-squared:                       0.685\n",
       "Model:                            OLS   Adj. R-squared:                  0.683\n",
       "Method:                 Least Squares   F-statistic:                     345.5\n",
       "Date:                Mon, 25 Nov 2019   Prob (F-statistic):               0.00\n",
       "Time:                        16:30:28   Log-Likelihood:                 1464.8\n",
       "No. Observations:                1599   AIC:                            -2908.\n",
       "Df Residuals:                    1588   BIC:                            -2849.\n",
       "Df Model:                          10                                         \n",
       "Covariance Type:            nonrobust                                         \n",
       "========================================================================================\n",
       "                           coef    std err          t      P>|t|      [0.025      0.975]\n",
       "----------------------------------------------------------------------------------------\n",
       "Intercept               -0.0337      0.029     -1.165      0.244      -0.091       0.023\n",
       "fixed_acidity            0.9113      0.036     25.144      0.000       0.840       0.982\n",
       "volatile_acidity         0.0776      0.024      3.231      0.001       0.030       0.125\n",
       "citric_acid              0.1104      0.019      5.760      0.000       0.073       0.148\n",
       "residual_sugar           0.6064      0.022     27.392      0.000       0.563       0.650\n",
       "chlorides               -0.1440      0.034     -4.176      0.000      -0.212      -0.076\n",
       "free_sulfur_dioxide      0.0085      0.026      0.329      0.742      -0.042       0.059\n",
       "total_sulfur_dioxide    -0.0988      0.024     -4.159      0.000      -0.145      -0.052\n",
       "density                 -1.4018      0.031    -45.484      0.000      -1.462      -1.341\n",
       "pH                       0.7608      0.032     23.752      0.000       0.698       0.824\n",
       "sulphates                0.3367      0.024     14.006      0.000       0.290       0.384\n",
       "==============================================================================\n",
       "Omnibus:                      141.267   Durbin-Watson:                   1.549\n",
       "Prob(Omnibus):                  0.000   Jarque-Bera (JB):              243.108\n",
       "Skew:                           0.620   Prob(JB):                     1.62e-53\n",
       "Kurtosis:                       4.454   Cond. No.                         38.6\n",
       "==============================================================================\n",
       "\n",
       "Warnings:\n",
       "[1] Standard Errors assume that the covariance matrix of the errors is correctly specified.\n",
       "\"\"\""
      ]
     },
     "execution_count": 133,
     "metadata": {},
     "output_type": "execute_result"
    }
   ],
   "source": [
    "# Create the formula of form \"outcome ~ predictor_1+predictor_2+...+predictor_n\"\n",
    "data_ols = X\n",
    "outcome = 'alcohol'\n",
    "predictors = data_ols.drop('alcohol', axis=1)\n",
    "pred_sum = \"+\".join(predictors.columns)\n",
    "formula = outcome + \"~\" + pred_sum\n",
    "\n",
    "model = ols(formula= formula, data=data_ols).fit()\n",
    "model.summary()"
   ]
  },
  {
   "cell_type": "markdown",
   "metadata": {},
   "source": [
    "Note that $p_\\text{free sulfur dioxide} > \\alpha$ so we will eliminate this predictor from the model. Also, free sulfur dioxide is accounted for in total sulfur dioxide, so we don't really lose much by eliminating this predictor."
   ]
  },
  {
   "cell_type": "code",
   "execution_count": 134,
   "metadata": {},
   "outputs": [],
   "source": [
    "X.drop('free_sulfur_dioxide',axis=1,inplace=True)"
   ]
  },
  {
   "cell_type": "markdown",
   "metadata": {},
   "source": [
    "## Take 2"
   ]
  },
  {
   "cell_type": "code",
   "execution_count": 135,
   "metadata": {},
   "outputs": [
    {
     "data": {
      "text/html": [
       "<table class=\"simpletable\">\n",
       "<caption>OLS Regression Results</caption>\n",
       "<tr>\n",
       "  <th>Dep. Variable:</th>         <td>alcohol</td>     <th>  R-squared:         </th> <td>   0.685</td>\n",
       "</tr>\n",
       "<tr>\n",
       "  <th>Model:</th>                   <td>OLS</td>       <th>  Adj. R-squared:    </th> <td>   0.683</td>\n",
       "</tr>\n",
       "<tr>\n",
       "  <th>Method:</th>             <td>Least Squares</td>  <th>  F-statistic:       </th> <td>   384.0</td>\n",
       "</tr>\n",
       "<tr>\n",
       "  <th>Date:</th>             <td>Mon, 25 Nov 2019</td> <th>  Prob (F-statistic):</th>  <td>  0.00</td> \n",
       "</tr>\n",
       "<tr>\n",
       "  <th>Time:</th>                 <td>16:33:32</td>     <th>  Log-Likelihood:    </th> <td>  1464.8</td>\n",
       "</tr>\n",
       "<tr>\n",
       "  <th>No. Observations:</th>      <td>  1599</td>      <th>  AIC:               </th> <td>  -2910.</td>\n",
       "</tr>\n",
       "<tr>\n",
       "  <th>Df Residuals:</th>          <td>  1589</td>      <th>  BIC:               </th> <td>  -2856.</td>\n",
       "</tr>\n",
       "<tr>\n",
       "  <th>Df Model:</th>              <td>     9</td>      <th>                     </th>     <td> </td>   \n",
       "</tr>\n",
       "<tr>\n",
       "  <th>Covariance Type:</th>      <td>nonrobust</td>    <th>                     </th>     <td> </td>   \n",
       "</tr>\n",
       "</table>\n",
       "<table class=\"simpletable\">\n",
       "<tr>\n",
       "            <td></td>              <th>coef</th>     <th>std err</th>      <th>t</th>      <th>P>|t|</th>  <th>[0.025</th>    <th>0.975]</th>  \n",
       "</tr>\n",
       "<tr>\n",
       "  <th>Intercept</th>            <td>   -0.0319</td> <td>    0.028</td> <td>   -1.123</td> <td> 0.262</td> <td>   -0.088</td> <td>    0.024</td>\n",
       "</tr>\n",
       "<tr>\n",
       "  <th>fixed_acidity</th>        <td>    0.9131</td> <td>    0.036</td> <td>   25.488</td> <td> 0.000</td> <td>    0.843</td> <td>    0.983</td>\n",
       "</tr>\n",
       "<tr>\n",
       "  <th>volatile_acidity</th>     <td>    0.0765</td> <td>    0.024</td> <td>    3.217</td> <td> 0.001</td> <td>    0.030</td> <td>    0.123</td>\n",
       "</tr>\n",
       "<tr>\n",
       "  <th>citric_acid</th>          <td>    0.1093</td> <td>    0.019</td> <td>    5.788</td> <td> 0.000</td> <td>    0.072</td> <td>    0.146</td>\n",
       "</tr>\n",
       "<tr>\n",
       "  <th>residual_sugar</th>       <td>    0.6070</td> <td>    0.022</td> <td>   27.507</td> <td> 0.000</td> <td>    0.564</td> <td>    0.650</td>\n",
       "</tr>\n",
       "<tr>\n",
       "  <th>chlorides</th>            <td>   -0.1436</td> <td>    0.034</td> <td>   -4.169</td> <td> 0.000</td> <td>   -0.211</td> <td>   -0.076</td>\n",
       "</tr>\n",
       "<tr>\n",
       "  <th>total_sulfur_dioxide</th> <td>   -0.0926</td> <td>    0.014</td> <td>   -6.398</td> <td> 0.000</td> <td>   -0.121</td> <td>   -0.064</td>\n",
       "</tr>\n",
       "<tr>\n",
       "  <th>density</th>              <td>   -1.4037</td> <td>    0.030</td> <td>  -46.330</td> <td> 0.000</td> <td>   -1.463</td> <td>   -1.344</td>\n",
       "</tr>\n",
       "<tr>\n",
       "  <th>pH</th>                   <td>    0.7624</td> <td>    0.032</td> <td>   24.087</td> <td> 0.000</td> <td>    0.700</td> <td>    0.824</td>\n",
       "</tr>\n",
       "<tr>\n",
       "  <th>sulphates</th>            <td>    0.3371</td> <td>    0.024</td> <td>   14.046</td> <td> 0.000</td> <td>    0.290</td> <td>    0.384</td>\n",
       "</tr>\n",
       "</table>\n",
       "<table class=\"simpletable\">\n",
       "<tr>\n",
       "  <th>Omnibus:</th>       <td>140.635</td> <th>  Durbin-Watson:     </th> <td>   1.547</td>\n",
       "</tr>\n",
       "<tr>\n",
       "  <th>Prob(Omnibus):</th> <td> 0.000</td>  <th>  Jarque-Bera (JB):  </th> <td> 241.425</td>\n",
       "</tr>\n",
       "<tr>\n",
       "  <th>Skew:</th>          <td> 0.618</td>  <th>  Prob(JB):          </th> <td>3.76e-53</td>\n",
       "</tr>\n",
       "<tr>\n",
       "  <th>Kurtosis:</th>      <td> 4.447</td>  <th>  Cond. No.          </th> <td>    35.4</td>\n",
       "</tr>\n",
       "</table><br/><br/>Warnings:<br/>[1] Standard Errors assume that the covariance matrix of the errors is correctly specified."
      ],
      "text/plain": [
       "<class 'statsmodels.iolib.summary.Summary'>\n",
       "\"\"\"\n",
       "                            OLS Regression Results                            \n",
       "==============================================================================\n",
       "Dep. Variable:                alcohol   R-squared:                       0.685\n",
       "Model:                            OLS   Adj. R-squared:                  0.683\n",
       "Method:                 Least Squares   F-statistic:                     384.0\n",
       "Date:                Mon, 25 Nov 2019   Prob (F-statistic):               0.00\n",
       "Time:                        16:33:32   Log-Likelihood:                 1464.8\n",
       "No. Observations:                1599   AIC:                            -2910.\n",
       "Df Residuals:                    1589   BIC:                            -2856.\n",
       "Df Model:                           9                                         \n",
       "Covariance Type:            nonrobust                                         \n",
       "========================================================================================\n",
       "                           coef    std err          t      P>|t|      [0.025      0.975]\n",
       "----------------------------------------------------------------------------------------\n",
       "Intercept               -0.0319      0.028     -1.123      0.262      -0.088       0.024\n",
       "fixed_acidity            0.9131      0.036     25.488      0.000       0.843       0.983\n",
       "volatile_acidity         0.0765      0.024      3.217      0.001       0.030       0.123\n",
       "citric_acid              0.1093      0.019      5.788      0.000       0.072       0.146\n",
       "residual_sugar           0.6070      0.022     27.507      0.000       0.564       0.650\n",
       "chlorides               -0.1436      0.034     -4.169      0.000      -0.211      -0.076\n",
       "total_sulfur_dioxide    -0.0926      0.014     -6.398      0.000      -0.121      -0.064\n",
       "density                 -1.4037      0.030    -46.330      0.000      -1.463      -1.344\n",
       "pH                       0.7624      0.032     24.087      0.000       0.700       0.824\n",
       "sulphates                0.3371      0.024     14.046      0.000       0.290       0.384\n",
       "==============================================================================\n",
       "Omnibus:                      140.635   Durbin-Watson:                   1.547\n",
       "Prob(Omnibus):                  0.000   Jarque-Bera (JB):              241.425\n",
       "Skew:                           0.618   Prob(JB):                     3.76e-53\n",
       "Kurtosis:                       4.447   Cond. No.                         35.4\n",
       "==============================================================================\n",
       "\n",
       "Warnings:\n",
       "[1] Standard Errors assume that the covariance matrix of the errors is correctly specified.\n",
       "\"\"\""
      ]
     },
     "execution_count": 135,
     "metadata": {},
     "output_type": "execute_result"
    }
   ],
   "source": [
    "# Create the formula of form \"outcome ~ predictor_1+predictor_2+...+predictor_n\"\n",
    "data_ols = X\n",
    "outcome = 'alcohol'\n",
    "predictors = data_ols.drop('alcohol', axis=1)\n",
    "pred_sum = \"+\".join(predictors.columns)\n",
    "formula = outcome + \"~\" + pred_sum\n",
    "\n",
    "model = ols(formula= formula, data=data_ols).fit()\n",
    "model.summary()"
   ]
  },
  {
   "cell_type": "markdown",
   "metadata": {},
   "source": [
    "Intercept p value is still $> \\alpha$ but we will proceed for now."
   ]
  },
  {
   "cell_type": "code",
   "execution_count": 191,
   "metadata": {},
   "outputs": [],
   "source": [
    "def compare_fits(X,y,test_size=0.2, alpha=0.5):\n",
    "    \"\"\"\n",
    "    Print out fit comparisons between linear, ridge, and lasso regressions.\n",
    "    \n",
    "    Param X: predictors\n",
    "    Param y: outcome\n",
    "    Param test_size: percentage of data set to be used as the test sample\n",
    "    Param alpha: hyperparameter for ridge and lasso. Must be [0,1].\n",
    "    \"\"\"\n",
    "    # Perform test train split\n",
    "    X_train , X_test, y_train, y_test = train_test_split(X, y, test_size=0.2, random_state=12)\n",
    "\n",
    "    # Build a Ridge, Lasso and regular linear regression model. \n",
    "    # Note how in scikit learn, the regularization parameter is denoted by alpha (and not lambda)\n",
    "    ridge = Ridge(alpha=alpha)\n",
    "    ridge.fit(X_train, y_train)\n",
    "\n",
    "    lasso = Lasso(alpha=alpha)\n",
    "    lasso.fit(X_train, y_train)\n",
    "\n",
    "    lin = LinearRegression()\n",
    "    lin.fit(X_train, y_train)\n",
    "    \n",
    "#     print(\"Unpenalized Linear Regression Coefficients are:{}\".format(dict(zip(X.columns,lin.coef_[0]))))\n",
    "#     print(\"\\nUnpenalized Linear Regression Intercept:{}\".format(lin.intercept_))\n",
    "#     print('\\n')\n",
    "#     print(\"\\nLasso Regression Coefficients are:{}\".format(dict(zip(X.columns,lasso.coef_))))\n",
    "#     print(\"\\nLasso Linear Regression Intercept:{}\".format(lasso.intercept_))\n",
    "#     print('\\n')\n",
    "#     print(\"\\nRidge Regression Coefficients are:{}\".format(dict(zip(X.columns,ridge.coef_[0]))))\n",
    "#     print(\"\\nRidge Linear Regression Intercept:{}\".format(ridge.intercept_))\n",
    "#     print('\\n')\n",
    "    # create predictions\n",
    "    y_h_ridge_train = ridge.predict(X_train)\n",
    "    y_h_ridge_test = ridge.predict(X_test)\n",
    "\n",
    "    y_h_lasso_train = np.reshape(lasso.predict(X_train),(1279,1))\n",
    "    y_h_lasso_test = np.reshape(lasso.predict(X_test),(320,1))\n",
    "\n",
    "    y_h_lin_train = lin.predict(X_train)\n",
    "    y_h_lin_test = lin.predict(X_test)\n",
    "    \n",
    "    # examine the residual sum of sq\n",
    "#     print('---------------------------------------')\n",
    "#     print('Train Error Ridge Model', np.sum((y_train - y_h_ridge_train)**2))\n",
    "#     print('Test Error Ridge Model', np.sum((y_test - y_h_ridge_test)**2))\n",
    "#     print('\\n')\n",
    "\n",
    "#     print('Train Error Lasso Model', np.sum((y_train - y_h_lasso_train)**2))\n",
    "#     print('Test Error Lasso Model', np.sum((y_test - y_h_lasso_test)**2))\n",
    "#     print('\\n')\n",
    "\n",
    "#     print('Train Error Unpenalized Linear Model', np.sum((y_train - lin.predict(X_train))**2))\n",
    "#     print('Test Error Unpenalized Linear Model', np.sum((y_test - lin.predict(X_test))**2))\n",
    "    \n",
    "    train_error_ridge = np.sum((y_train - y_h_ridge_train)**2)\n",
    "    test_error_ridge = np.sum((y_test - y_h_ridge_test)**2)\n",
    "    \n",
    "    train_error_linear = np.sum((y_train - lin.predict(X_train))**2)\n",
    "    test_error_linear = np.sum((y_test - lin.predict(X_test))**2)\n",
    "    \n",
    "    return [train_error_ridge[0], test_error_ridge[0], train_error_linear[0], test_error_linear[0]]"
   ]
  },
  {
   "cell_type": "code",
   "execution_count": 199,
   "metadata": {},
   "outputs": [
    {
     "data": {
      "text/plain": [
       "[0.1,\n",
       " 5.227175282293192,\n",
       " 0.9452860287908595,\n",
       " 4.691960484962457,\n",
       " 0.8988629367189843]"
      ]
     },
     "execution_count": 199,
     "metadata": {},
     "output_type": "execute_result"
    }
   ],
   "source": [
    "[0.1] + compare_fits(X,y,test_size=0.2)"
   ]
  },
  {
   "cell_type": "code",
   "execution_count": 204,
   "metadata": {},
   "outputs": [],
   "source": [
    "data = [[round(x,1)] + compare_fits(X,y,test_size=0.2, alpha=x) for x in np.arange(0.1, 1, 0.1)]\n",
    "\n",
    "fits_df = pd.DataFrame(data,columns = ['alpha','train_error_ridge','test_error_ridge','train_error_linear','test_error_linear'])"
   ]
  },
  {
   "cell_type": "code",
   "execution_count": 209,
   "metadata": {},
   "outputs": [
    {
     "data": {
      "text/plain": [
       "<matplotlib.axes._subplots.AxesSubplot at 0x1c21d32990>"
      ]
     },
     "execution_count": 209,
     "metadata": {},
     "output_type": "execute_result"
    },
    {
     "data": {
      "image/png": "[encoded data removed]",
      "text/plain": [
       "<Figure size 864x576 with 1 Axes>"
      ]
     },
     "metadata": {
      "needs_background": "light"
     },
     "output_type": "display_data"
    }
   ],
   "source": [
    "fits_df.plot(x='alpha',kind='bar',position=3,figsize=(12,8))"
   ]
  },
  {
   "cell_type": "markdown",
   "metadata": {},
   "source": [
    "The nonpenalized model is superior to the penalized linear models."
   ]
  },
  {
   "cell_type": "code",
   "execution_count": null,
   "metadata": {},
   "outputs": [],
   "source": []
  }
 ],
 "metadata": {
  "kernelspec": {
   "display_name": "Python 3",
   "language": "python",
   "name": "python3"
  },
  "language_info": {
   "codemirror_mode": {
    "name": "ipython",
    "version": 3
   },
   "file_extension": ".py",
   "mimetype": "text/x-python",
   "name": "python",
   "nbconvert_exporter": "python",
   "pygments_lexer": "ipython3",
   "version": "3.7.3"
  },
  "toc": {
   "base_numbering": 1,
   "nav_menu": {},
   "number_sections": false,
   "sideBar": true,
   "skip_h1_title": false,
   "title_cell": "Table of Contents",
   "title_sidebar": "Contents",
   "toc_cell": true,
   "toc_position": {},
   "toc_section_display": true,
   "toc_window_display": false
  },
  "varInspector": {
   "cols": {
    "lenName": 16,
    "lenType": 16,
    "lenVar": 40
   },
   "kernels_config": {
    "python": {
     "delete_cmd_postfix": "",
     "delete_cmd_prefix": "del ",
     "library": "var_list.py",
     "varRefreshCmd": "print(var_dic_list())"
    },
    "r": {
     "delete_cmd_postfix": ") ",
     "delete_cmd_prefix": "rm(",
     "library": "var_list.r",
     "varRefreshCmd": "cat(var_dic_list()) "
    }
   },
   "types_to_exclude": [
    "module",
    "function",
    "builtin_function_or_method",
    "instance",
    "_Feature"
   ],
   "window_display": false
  }
 },
 "nbformat": 4,
 "nbformat_minor": 2
}
